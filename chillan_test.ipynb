{
 "cells": [
  {
   "cell_type": "markdown",
   "metadata": {},
   "source": [
    "* To set up, run: mamba activate oggm_env\n",
    "* Using oggm_env (Python 3.12.2) kernel "
   ]
  },
  {
   "cell_type": "code",
   "execution_count": 1,
   "metadata": {},
   "outputs": [
    {
     "name": "stderr",
     "output_type": "stream",
     "text": [
      "2024-04-04 19:03:24: oggm.cfg: Reading default parameters from the OGGM `params.cfg` configuration file.\n",
      "2024-04-04 19:03:24: oggm.cfg: Multiprocessing switched OFF according to the parameter file.\n",
      "2024-04-04 19:03:24: oggm.cfg: Multiprocessing: using all available processors (N=2)\n",
      "2024-04-04 19:03:24: oggm.utils: Downloading https://github.com/OGGM/oggm-sample-data/archive/56aa8f23e3b450e6f56a8d4e8a5cdb58e03c9cc1.zip to /home/codespace/OGGM/download_cache/github.com/OGGM/oggm-sample-data/archive/56aa8f23e3b450e6f56a8d4e8a5cdb58e03c9cc1.zip...\n",
      "/   0.0 B Elapsed Time: 0:00:00\n",
      "|  -1.0 B Elapsed Time: 0:00:01\n"
     ]
    }
   ],
   "source": [
    "from oggm import cfg\n",
    "# It will download a small subset of data used for testing and calibration \n",
    "# Those data are located in your home directory, in a hidden folder called .oggm\n",
    "\n",
    "cfg.initialize()\n",
    "# It will create a configuration file in your home folder, where you can indicate where you want to store further input data. \n",
    "# This configuration file is also located in your home directory under the name .oggm_config."
   ]
  },
  {
   "cell_type": "code",
   "execution_count": 2,
   "metadata": {},
   "outputs": [
    {
     "data": {
      "text/plain": [
       "'/home/codespace/.oggm_config'"
      ]
     },
     "execution_count": 2,
     "metadata": {},
     "output_type": "execute_result"
    }
   ],
   "source": [
    "# To locate this config file: (prints location: '/home/codespace/.oggm_config')\n",
    "cfg.CONFIG_FILE"
   ]
  }
 ],
 "metadata": {
  "kernelspec": {
   "display_name": "Python 3",
   "language": "python",
   "name": "python3"
  },
  "language_info": {
   "codemirror_mode": {
    "name": "ipython",
    "version": 3
   },
   "file_extension": ".py",
   "mimetype": "text/x-python",
   "name": "python",
   "nbconvert_exporter": "python",
   "pygments_lexer": "ipython3",
   "version": "3.12.2"
  }
 },
 "nbformat": 4,
 "nbformat_minor": 2
}
