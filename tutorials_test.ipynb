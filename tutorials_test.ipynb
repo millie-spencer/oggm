{
 "cells": [
  {
   "cell_type": "markdown",
   "metadata": {},
   "source": [
    "* To set up, run: mamba activate oggm_env\n",
    "* Using oggm_env (Python 3.12.2) kernel "
   ]
  },
  {
   "cell_type": "code",
   "execution_count": 2,
   "metadata": {},
   "outputs": [
    {
     "name": "stderr",
     "output_type": "stream",
     "text": [
      "2024-04-04 22:18:17: oggm.cfg: Reading default parameters from the OGGM `params.cfg` configuration file.\n",
      "2024-04-04 22:18:17: oggm.cfg: Multiprocessing switched OFF according to the parameter file.\n",
      "2024-04-04 22:18:17: oggm.cfg: Multiprocessing: using all available processors (N=2)\n"
     ]
    }
   ],
   "source": [
    "from oggm import cfg\n",
    "# It will download a small subset of data used for testing and calibration \n",
    "# Those data are located in your home directory, in a hidden folder called .oggm\n",
    "\n",
    "cfg.initialize()\n",
    "# It will create a configuration file in your home folder, where you can indicate where you want to store further input data. \n",
    "# This configuration file is also located in your home directory under the name .oggm_config."
   ]
  },
  {
   "cell_type": "code",
   "execution_count": 3,
   "metadata": {},
   "outputs": [
    {
     "data": {
      "text/plain": [
       "'/home/codespace/.oggm_config'"
      ]
     },
     "execution_count": 3,
     "metadata": {},
     "output_type": "execute_result"
    }
   ],
   "source": [
    "# To locate this config file: (prints location: '/home/codespace/.oggm_config')\n",
    "cfg.CONFIG_FILE"
   ]
  },
  {
   "cell_type": "code",
   "execution_count": 4,
   "metadata": {},
   "outputs": [
    {
     "name": "stderr",
     "output_type": "stream",
     "text": [
      "2024-04-04 22:18:22: oggm.cfg: Reading default parameters from the OGGM `params.cfg` configuration file.\n",
      "2024-04-04 22:18:22: oggm.cfg: Multiprocessing switched OFF according to the parameter file.\n",
      "2024-04-04 22:18:22: oggm.cfg: Multiprocessing: using all available processors (N=2)\n"
     ]
    }
   ],
   "source": [
    "from oggm import cfg, utils\n",
    "cfg.initialize(logging_level='WARNING')\n",
    "# A call to cfg.initialize() will read the default parameter file (or any user-provided file) and\n",
    "# make them available to all other OGGM tools via the cfg.PARAMS dictionary. "
   ]
  },
  {
   "cell_type": "code",
   "execution_count": 5,
   "metadata": {},
   "outputs": [
    {
     "data": {
      "text/plain": [
       "(5.0, 900.0, False)"
      ]
     },
     "execution_count": 5,
     "metadata": {},
     "output_type": "execute_result"
    }
   ],
   "source": [
    "cfg.PARAMS['melt_f'], cfg.PARAMS['ice_density'], cfg.PARAMS['continue_on_error']"
   ]
  },
  {
   "cell_type": "code",
   "execution_count": 6,
   "metadata": {},
   "outputs": [
    {
     "name": "stderr",
     "output_type": "stream",
     "text": [
      "2024-04-04 22:22:21: oggm.cfg: Multiprocessing switched ON after user settings.\n"
     ]
    }
   ],
   "source": [
    "# You can try with or without multiprocessing: with two glaciers, OGGM could run on two processors\n",
    "cfg.PARAMS['use_multiprocessing'] = True"
   ]
  },
  {
   "cell_type": "markdown",
   "metadata": {},
   "source": [
    "## Working through a mock workflow"
   ]
  },
  {
   "cell_type": "markdown",
   "metadata": {},
   "source": [
    "Each OGGM run needs a single folder where to store the results of the computations for all glaciers. This is called a “working directory” and needs to be specified before each run. Here we create a temporary folder for you:"
   ]
  },
  {
   "cell_type": "code",
   "execution_count": 7,
   "metadata": {},
   "outputs": [
    {
     "data": {
      "text/plain": [
       "'/tmp/OGGM/OGGM-GettingStarted-10m'"
      ]
     },
     "execution_count": 7,
     "metadata": {},
     "output_type": "execute_result"
    }
   ],
   "source": [
    "# create temporary folder as working directory \n",
    "cfg.PATHS['working_dir'] = utils.gettempdir(dirname='OGGM-GettingStarted-10m', reset=True)\n",
    "cfg.PATHS['working_dir']\n",
    "\n",
    "# creating a permanant folder as working directory: \n",
    "# e.g. /home/shruti/OGGM_output"
   ]
  },
  {
   "cell_type": "markdown",
   "metadata": {},
   "source": [
    "In the OGGM design, this working directory is meant to be persistent, at least as long as you need the data. For example, you can stop your processing workflow after any task, and restart from an existing working directory at a later stage, simply by using the same working directory."
   ]
  },
  {
   "cell_type": "code",
   "execution_count": 9,
   "metadata": {},
   "outputs": [],
   "source": [
    "# define the glaciers for the run \n",
    "# example glaciers from the tutorial \n",
    "rgi_ids = ['RGI60-11.01328', 'RGI60-11.00897'] \n",
    "# main glacier on nevados de chillán\n",
    "glaciar_nevado = ['RGI60-17.13045']"
   ]
  },
  {
   "cell_type": "markdown",
   "metadata": {},
   "source": [
    "For an operational run on an RGI region, you might want to download the Randolph Glacier Inventory dataset instead, and start a run from it. This case is covered in the working with the RGI tutorial."
   ]
  },
  {
   "cell_type": "markdown",
   "metadata": {},
   "source": [
    "## Glacier directories\n",
    "\n",
    "The OGGM workflow is organized as a list of tasks that have to be applied to a list of glaciers. The vast majority of tasks are called entity tasks: they are standalone operations to be realized on one single glacier entity. These tasks are executed sequentially (one after another): they often need input generated by the previous task(s): for example, the climate calibration needs the glacier flowlines, which can be only computed after the topography data has been processed, and so on.\n",
    "\n",
    "To handle this situation, OGGM uses a workflow based on data persistence on disk: instead of passing data as python variables from one task to another, each task will read the data from disk and then write the computation results back to the disk, making these new data available for the next task in the queue. These glacier specific data are located in glacier directories."
   ]
  },
  {
   "cell_type": "code",
   "execution_count": 11,
   "metadata": {},
   "outputs": [
    {
     "data": {
      "text/plain": [
       "'https://cluster.klima.uni-bremen.de/~oggm/gdirs/oggm_v1.6/L3-L5_files/2023.3/elev_bands/W5E5_spinup'"
      ]
     },
     "execution_count": 11,
     "metadata": {},
     "output_type": "execute_result"
    }
   ],
   "source": [
    "# One main advantage of this workflow is that OGGM can prepare data and make it available to everyone! Here is an example of an url where such data can be found:\n",
    "from oggm import workflow\n",
    "from oggm import DEFAULT_BASE_URL\n",
    "DEFAULT_BASE_URL"
   ]
  },
  {
   "cell_type": "code",
   "execution_count": 12,
   "metadata": {},
   "outputs": [
    {
     "name": "stderr",
     "output_type": "stream",
     "text": [
      "2024-04-04 22:34:24: oggm.workflow: init_glacier_directories from prepro level 4 on 2 glaciers.\n",
      "2024-04-04 22:34:24: oggm.workflow: Execute entity tasks [gdir_from_prepro] on 2 glaciers\n",
      "  0% of 261.6 MiB |                      | Elapsed Time: 0:00:00 ETA:  --:--:--\n",
      "100% of 261.6 MiB |######################| Elapsed Time: 0:00:09 Time:  0:00:09\n",
      "  0% of 267.5 MiB |                      | Elapsed Time: 0:00:00 ETA:  --:--:--\n",
      "100% of 267.5 MiB |######################| Elapsed Time: 0:00:10 Time:  0:00:10\n"
     ]
    }
   ],
   "source": [
    "# Let’s use OGGM to download the glacier directories for our two selected glaciers:\n",
    "gdirs = workflow.init_glacier_directories(\n",
    "    rgi_ids,  # which glaciers?\n",
    "    prepro_base_url=DEFAULT_BASE_URL,  # where to fetch the data?\n",
    "    from_prepro_level=4,  # what kind of data? \n",
    "    prepro_border=80  # how big of a map?\n",
    ")"
   ]
  },
  {
   "cell_type": "code",
   "execution_count": 26,
   "metadata": {},
   "outputs": [
    {
     "name": "stderr",
     "output_type": "stream",
     "text": [
      "2024-04-04 22:43:54: oggm.workflow: init_glacier_directories from prepro level 4 on 1 glaciers.\n",
      "2024-04-04 22:43:54: oggm.workflow: Execute entity tasks [gdir_from_prepro] on 1 glaciers\n"
     ]
    }
   ],
   "source": [
    "# What if we duplicate the above cell for glaciar nevado? \n",
    "nevado_gdir = workflow.init_glacier_directories(\n",
    "    glaciar_nevado,  # which glaciers?\n",
    "    prepro_base_url=DEFAULT_BASE_URL,  # where to fetch the data?\n",
    "    from_prepro_level=4,  # what kind of data? \n",
    "    prepro_border=80  # how big of a map?\n",
    ")"
   ]
  },
  {
   "cell_type": "markdown",
   "metadata": {},
   "source": [
    "* the keyword from_prepro_level indicates that we will start from pre-processed directories, i.e. data that are already prepared by the OGGM team. In many cases you will want to start from pre-processed directories, in most case from level 3 or 5. For level 3 and above the model has already been calibrated, so you no longer need to do that yourself and can start rigth away with your simulation. Here we start from level 4 and add some data to the processing in order to demonstrate the OGGM workflow.\n",
    "\n",
    "* the prepro_border keyword indicates the number of grid points which we’d like to add to each side of the glacier for the local map: the larger the glacier will grow, the larger the border parameter should be. The available pre-processed border values are: 10, 80, 160, 240 (depending on the model set-ups there might be more or less options). These are the fixed map sizes we prepared for you - any other map size will require a full processing (see the further DEM sources example for a tutorial)."
   ]
  },
  {
   "cell_type": "code",
   "execution_count": 28,
   "metadata": {},
   "outputs": [
    {
     "data": {
      "text/plain": [
       "(list, oggm.utils._workflow.GlacierDirectory)"
      ]
     },
     "execution_count": 28,
     "metadata": {},
     "output_type": "execute_result"
    }
   ],
   "source": [
    "# The init_glacier_directories task will allways be the very first task to call for all your OGGM experiments. \n",
    "# Let’s see what it gives us back:\n",
    "\n",
    "type(gdirs), type(gdirs[0])\n",
    "\n",
    "# gdirs is a list of GlacierDirectory objects (one for each glacier). \n",
    "# Glacier directories are used by OGGM as “file and attribute manager” for single glaciers. \n",
    "\n",
    "# For nevado \n",
    "type(nevado_gdir), type(nevado_gdir[0])"
   ]
  },
  {
   "cell_type": "code",
   "execution_count": 29,
   "metadata": {},
   "outputs": [
    {
     "name": "stdout",
     "output_type": "stream",
     "text": [
      "Path to the DEM: /tmp/OGGM/OGGM-GettingStarted-10m/per_glacier/RGI60-17/RGI60-17.13/RGI60-17.13045/dem.tif\n"
     ]
    }
   ],
   "source": [
    "# For example, the model now knows where to find the topography data file for this glacier:\n",
    "gdir = gdirs[0]  # take Unteraar glacier\n",
    "print('Path to the DEM:', gdir.get_filepath('dem'))\n",
    "\n",
    "# path to the glaciar nevado dem: \n",
    "nevado_gdir = nevado_gdir[0]\n",
    "print('Path to the DEM:', nevado_gdir.get_filepath('dem'))\n",
    "# don't get why i needed the [0] since there's only one glacier in the list but ok.. "
   ]
  },
  {
   "cell_type": "code",
   "execution_count": 30,
   "metadata": {},
   "outputs": [
    {
     "data": {
      "text/plain": [
       "<oggm.GlacierDirectory>\n",
       "  RGI id: RGI60-17.13045\n",
       "  Region: 17: Southern Andes\n",
       "  Subregion: 17-02: C Andes                         \n",
       "  Glacier type: Ice cap\n",
       "  Terminus type: Land-terminating\n",
       "  Status: Glacier or ice cap\n",
       "  Area: 1.256 km2\n",
       "  Lon, Lat: (-71.4149, -36.8356)\n",
       "  Grid (nx, ny): (219, 217)\n",
       "  Grid (dx, dy): (26.0, -26.0)"
      ]
     },
     "execution_count": 30,
     "metadata": {},
     "output_type": "execute_result"
    }
   ],
   "source": [
    "# And we can also access some attributes of this glacier:\n",
    "gdir\n",
    "nevado_gdir"
   ]
  },
  {
   "cell_type": "code",
   "execution_count": 31,
   "metadata": {},
   "outputs": [
    {
     "data": {
      "text/plain": [
       "2000"
      ]
     },
     "execution_count": 31,
     "metadata": {},
     "output_type": "execute_result"
    }
   ],
   "source": [
    "gdir.rgi_date  # date at which the outlines are valid\n",
    "nevado_gdir.rgi_date\n",
    "# nevado outline only valid for 2000, quite old/out of date "
   ]
  }
 ],
 "metadata": {
  "kernelspec": {
   "display_name": "Python 3",
   "language": "python",
   "name": "python3"
  },
  "language_info": {
   "codemirror_mode": {
    "name": "ipython",
    "version": 3
   },
   "file_extension": ".py",
   "mimetype": "text/x-python",
   "name": "python",
   "nbconvert_exporter": "python",
   "pygments_lexer": "ipython3",
   "version": "3.12.2"
  }
 },
 "nbformat": 4,
 "nbformat_minor": 2
}
